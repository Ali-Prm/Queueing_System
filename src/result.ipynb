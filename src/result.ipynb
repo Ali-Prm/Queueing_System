{
 "cells": [
  {
   "cell_type": "code",
   "execution_count": 1,
   "id": "2bb6e4aa-e276-4d1b-b582-adf2822c56e2",
   "metadata": {},
   "outputs": [],
   "source": [
    "import numpy as np \n",
    "import time \n",
    "import heapq\n",
    "\n",
    "from fcfs import SingleServerQueuing_FCFS\n",
    "from spt import SingleServerQueuing_SPT\n",
    "from time_generator import RandomTimeGenerator\n",
    "from time_generator import time_generator_helper\n",
    "from run_simulation import run_simulation"
   ]
  },
  {
   "cell_type": "code",
   "execution_count": 2,
   "id": "60cd04f3-58ff-4319-89fb-db8199e1258d",
   "metadata": {},
   "outputs": [],
   "source": [
    "# Arrival time and service time are generated from exponential random varites.  \n",
    "# Arrival and service mean time.\n",
    "mean_arrival = 5 \n",
    "mean_service = 4 \n",
    "# Intial value for LINEAR CONGRUENTIAL GENERATORS random-number generator.\n",
    "initial_sequence_arrival = 1697712905  #(seed)\n",
    "initial_sequence_service = 247165065   #(seed)\n",
    "multiplier = 16807\n",
    "modulus = 2147483648"
   ]
  },
  {
   "cell_type": "markdown",
   "id": "6defa74d-4915-417f-a703-63d451afbee3",
   "metadata": {},
   "source": [
    "# Stopping Criteria: Number of Served Entities"
   ]
  },
  {
   "cell_type": "markdown",
   "id": "2736c298-6aeb-4894-a304-8aacd5a3b4be",
   "metadata": {},
   "source": [
    "## 1. `FCFS` M/M/1 10000 Entities"
   ]
  },
  {
   "cell_type": "code",
   "execution_count": 3,
   "id": "047ac975-94f4-462c-bacc-a2614426d8f6",
   "metadata": {},
   "outputs": [],
   "source": [
    "# Stochastic arrival time generator \n",
    "interarrival_obj = RandomTimeGenerator(initial_sequence=initial_sequence_arrival,\n",
    "                                        mean=mean_arrival, modulus=modulus, multiplier=multiplier)\n",
    "# Stochastic service time generator \n",
    "service_obj = RandomTimeGenerator(initial_sequence=initial_sequence_service,\n",
    "                                        mean=mean_service, modulus=modulus, multiplier=multiplier)"
   ]
  },
  {
   "cell_type": "code",
   "execution_count": 4,
   "id": "f3d5cac7-b0d9-4011-8f50-f72f0543abf3",
   "metadata": {},
   "outputs": [
    {
     "name": "stdout",
     "output_type": "stream",
     "text": [
      "Info:   M/M/1 | FCFS | No.of Served Entities:10000\n",
      "----------------------------\n",
      "Average Delay: 16.5703412281426\n",
      "Expected Number of Entities in the Queue: 3.2876324256446203\n",
      "Percentage of Entities Waiting more than 4.5 Minutes in the System: 80.36999999999999\n",
      "System Utilization: 0.8024848839166061\n",
      "----------------------------\n",
      "Running Time : 0.22612547874450684\n"
     ]
    }
   ],
   "source": [
    "# Initializing FCFS M/M/1 with 1000 entities.\n",
    "queue_fcfs = SingleServerQueuing_FCFS(\n",
    "    stopping_criteria='custs_num',num_delayed_required =10000,\n",
    "    stopping_time=np.inf, service_time_type='stochastic', mean_service_time=4,\n",
    "    interarrival_obj=interarrival_obj, service_obj=service_obj)\n",
    "\n",
    "# Running the simulation for FCFS M/M/1 with 1000 entities.\n",
    "run_simulation(queue=queue_fcfs, sys_type='FCFS')"
   ]
  },
  {
   "cell_type": "markdown",
   "id": "22505df6-1c87-43a4-865f-b4bba5f100f1",
   "metadata": {},
   "source": [
    "## 2. `FCFS` M/D/1 10000 Entites"
   ]
  },
  {
   "cell_type": "code",
   "execution_count": 5,
   "id": "ce66c27a-b01e-4a68-889c-99a0a49f2771",
   "metadata": {},
   "outputs": [],
   "source": [
    "# Stochastic arrival time generator \n",
    "interarrival_obj = RandomTimeGenerator(initial_sequence=initial_sequence_arrival,\n",
    "                                        mean=mean_arrival, modulus=modulus, multiplier=multiplier)\n",
    "# Stochastic service time generator \n",
    "service_obj = RandomTimeGenerator(initial_sequence=initial_sequence_service,\n",
    "                                        mean=mean_service, modulus=modulus, multiplier=multiplier)"
   ]
  },
  {
   "cell_type": "code",
   "execution_count": 6,
   "id": "66cb2de9-c2b6-4516-85fd-a6bc6cc0f215",
   "metadata": {},
   "outputs": [
    {
     "name": "stdout",
     "output_type": "stream",
     "text": [
      "Info:   M/D/1 | FCFS | No.of Served Entities:10000\n",
      "----------------------------\n",
      "Average Delay: 7.434294490306463\n",
      "Expected Number of Entities in the Queue: 1.4749301080791297\n",
      "Percentage of Entities Waiting more than 4.5 Minutes in the System: 76.36\n",
      "System Utilization: 0.7935817500919724\n",
      "----------------------------\n",
      "Running Time : 0.17237639427185059\n"
     ]
    }
   ],
   "source": [
    "# Initializing FCFS M/M/1 with 1000 entities.\n",
    "queue_fcfs = SingleServerQueuing_FCFS(\n",
    "    stopping_criteria='custs_num',num_delayed_required =10000,\n",
    "    stopping_time=np.inf, service_time_type='determinstic', mean_service_time=4,\n",
    "    interarrival_obj=interarrival_obj, service_obj=service_obj)\n",
    "\n",
    "# Running the simulation for FCFS M/M/1 with 1000 entities.\n",
    "run_simulation(queue=queue_fcfs, sys_type='FCFS')"
   ]
  },
  {
   "cell_type": "markdown",
   "id": "8f25e275-87ad-4398-b7fa-bc2f0de34eeb",
   "metadata": {},
   "source": [
    "## 3. `SPT` M/M/1 10000 Entities"
   ]
  },
  {
   "cell_type": "code",
   "execution_count": 7,
   "id": "2e3f215f-fa04-4ba6-9f76-5568c009f6f1",
   "metadata": {},
   "outputs": [],
   "source": [
    "# Stochastic arrival time generator \n",
    "interarrival_obj = RandomTimeGenerator(initial_sequence=initial_sequence_arrival,\n",
    "                                        mean=mean_arrival, modulus=modulus, multiplier=multiplier)\n",
    "# Stochastic service time generator \n",
    "service_obj = RandomTimeGenerator(initial_sequence=initial_sequence_service,\n",
    "                                        mean=mean_service, modulus=modulus, multiplier=multiplier)"
   ]
  },
  {
   "cell_type": "code",
   "execution_count": 8,
   "id": "08394406-c08a-429a-adde-bafc5c41234e",
   "metadata": {},
   "outputs": [
    {
     "name": "stdout",
     "output_type": "stream",
     "text": [
      "Info:   M/M/1 | SPT | No.of Served Entities:10000\n",
      "----------------------------\n",
      "Average Delay: 7.686476725693772\n",
      "Expected Number of Entities in the Queue: 1.5250325732239514\n",
      "Percentage of Entities Waiting more than 4.5 Minutes in the System: 65.21000000000001\n",
      "System Utilization: 0.8024848839166061\n",
      "----------------------------\n",
      "Running Time : 0.2738525867462158\n"
     ]
    }
   ],
   "source": [
    "# Initializing SPT M/M/1 with 1000 entities.\n",
    "queue_spt = SingleServerQueuing_SPT(\n",
    "    stopping_criteria='custs_num',num_delayed_required =10000,\n",
    "    stopping_time=np.inf, service_time_type='stochastic', mean_service_time=4,\n",
    "    interarrival_obj=interarrival_obj, service_obj=service_obj)\n",
    "# Running the simulation for FCFS M/M/1 with 1000 entities.\n",
    "run_simulation(queue=queue_spt, sys_type='SPT')"
   ]
  },
  {
   "cell_type": "markdown",
   "id": "11ea56d8-492e-4191-8561-848342865d08",
   "metadata": {},
   "source": [
    "## 4. `SPT` M/D/1 10000 Entities"
   ]
  },
  {
   "cell_type": "code",
   "execution_count": 9,
   "id": "64dab2f9-f01c-4bd6-96e0-584253f10a63",
   "metadata": {},
   "outputs": [],
   "source": [
    "# Stochastic arrival time generator \n",
    "interarrival_obj = RandomTimeGenerator(initial_sequence=initial_sequence_arrival,\n",
    "                                        mean=mean_arrival, modulus=modulus, multiplier=multiplier)\n",
    "# Stochastic service time generator \n",
    "service_obj = RandomTimeGenerator(initial_sequence=initial_sequence_service,\n",
    "                                        mean=mean_service, modulus=modulus, multiplier=multiplier)"
   ]
  },
  {
   "cell_type": "code",
   "execution_count": 10,
   "id": "17dae200-dd82-4fa2-9d65-5753bc7c0b57",
   "metadata": {},
   "outputs": [
    {
     "name": "stdout",
     "output_type": "stream",
     "text": [
      "Info:   M/D/1 | SPT | No.of Served Entities:10000\n",
      "----------------------------\n",
      "Average Delay: 7.434294490306463\n",
      "Expected Number of Entities in the Queue: 1.4749301080791297\n",
      "Percentage of Entities Waiting more than 4.5 Minutes in the System: 76.36\n",
      "System Utilization: 0.7935817500919724\n",
      "----------------------------\n",
      "Running Time : 0.23145842552185059\n"
     ]
    }
   ],
   "source": [
    "# Initializing SPT M/M/1 with 1000 entities.\n",
    "queue_spt = SingleServerQueuing_SPT(\n",
    "    stopping_criteria='custs_num',num_delayed_required =10000,\n",
    "    stopping_time=np.inf, service_time_type='determinstic', mean_service_time=4,\n",
    "    interarrival_obj=interarrival_obj, service_obj=service_obj)\n",
    "# Running the simulation for FCFS M/M/1 with 1000 entities.\n",
    "run_simulation(queue=queue_spt, sys_type='SPT')"
   ]
  },
  {
   "cell_type": "markdown",
   "id": "cc430aa8-1cc7-43c6-a1b5-e05e80ed075e",
   "metadata": {},
   "source": [
    "## Stopping Criteria: Simulation Clock"
   ]
  },
  {
   "cell_type": "markdown",
   "id": "fa36d877-9951-4c51-8a33-ef9cca16d0b7",
   "metadata": {},
   "source": [
    "## 1. `FCFS` M/M/1 60000 Time Unit"
   ]
  },
  {
   "cell_type": "code",
   "execution_count": 11,
   "id": "ab1dad3c-f720-4f84-b328-a89cde5e5de0",
   "metadata": {},
   "outputs": [],
   "source": [
    "# Stochastic arrival time generator \n",
    "interarrival_obj = RandomTimeGenerator(initial_sequence=initial_sequence_arrival,\n",
    "                                        mean=mean_arrival, modulus=modulus, multiplier=multiplier)\n",
    "# Stochastic service time generator \n",
    "service_obj = RandomTimeGenerator(initial_sequence=initial_sequence_service,\n",
    "                                        mean=mean_service, modulus=modulus, multiplier=multiplier)"
   ]
  },
  {
   "cell_type": "code",
   "execution_count": 12,
   "id": "18ca8b11-e583-4fb8-ab51-46bceca040ff",
   "metadata": {},
   "outputs": [
    {
     "name": "stdout",
     "output_type": "stream",
     "text": [
      "Info:   M/M/1 | FCFS | Elapsed Time:60000 Minutes\n",
      "----------------------------\n",
      "Average Delay: 16.891840012445435\n",
      "Expected Number of Entities in the Queue: 3.3448658531310826\n",
      "Percentage of Entities Waiting more than 4.5 Minutes in the System: 80.55719215554247\n",
      "System Utilization: 0.8044462704352797\n",
      "----------------------------\n",
      "Running Time : 0.2397902011871338\n"
     ]
    }
   ],
   "source": [
    "# Initializing FCFS M/M/1 with 1000 entities.\n",
    "queue_fcfs = SingleServerQueuing_FCFS(\n",
    "    stopping_criteria='time',num_delayed_required =np.inf,\n",
    "    stopping_time=60000, service_time_type='stochastic', mean_service_time=4,\n",
    "    interarrival_obj=interarrival_obj, service_obj=service_obj)\n",
    "\n",
    "# Running the simulation for FCFS M/M/1 with 1000 entities.\n",
    "run_simulation(queue=queue_fcfs, sys_type='FCFS')"
   ]
  },
  {
   "cell_type": "markdown",
   "id": "5d5058cb-b1e1-4d98-910d-78887af68f45",
   "metadata": {},
   "source": [
    "## 2. `FCFS` M/D/1 60000 Time Unit"
   ]
  },
  {
   "cell_type": "code",
   "execution_count": 13,
   "id": "510130b4-f145-41de-a7f5-6b3e86c81bad",
   "metadata": {},
   "outputs": [],
   "source": [
    "# Stochastic arrival time generator \n",
    "interarrival_obj = RandomTimeGenerator(initial_sequence=initial_sequence_arrival,\n",
    "                                        mean=mean_arrival, modulus=modulus, multiplier=multiplier)\n",
    "# Stochastic service time generator \n",
    "service_obj = RandomTimeGenerator(initial_sequence=initial_sequence_service,\n",
    "                                        mean=mean_service, modulus=modulus, multiplier=multiplier)"
   ]
  },
  {
   "cell_type": "code",
   "execution_count": 14,
   "id": "c8604990-1b17-4c98-9586-2f00725c6579",
   "metadata": {},
   "outputs": [
    {
     "name": "stdout",
     "output_type": "stream",
     "text": [
      "Info:   M/D/1 | FCFS | Elapsed Time:60000 Minutes\n",
      "----------------------------\n",
      "Average Delay: 7.276150675924295\n",
      "Expected Number of Entities in the Queue: 1.440694777200417\n",
      "Percentage of Entities Waiting more than 4.5 Minutes in the System: 76.18686868686869\n",
      "System Utilization: 0.7920304376605548\n",
      "----------------------------\n",
      "Running Time : 0.23142170906066895\n"
     ]
    }
   ],
   "source": [
    "# Initializing FCFS M/M/1 with 1000 entities.\n",
    "queue_fcfs = SingleServerQueuing_FCFS(\n",
    "    stopping_criteria='time',num_delayed_required =np.inf,\n",
    "    stopping_time=60000, service_time_type='determinstic', mean_service_time=4,\n",
    "    interarrival_obj=interarrival_obj, service_obj=service_obj)\n",
    "\n",
    "# Running the simulation for FCFS M/M/1 with 1000 entities.\n",
    "run_simulation(queue=queue_fcfs, sys_type='FCFS')"
   ]
  },
  {
   "cell_type": "markdown",
   "id": "08b04ca4-fe4a-476e-970f-8cb58d95355f",
   "metadata": {},
   "source": [
    "## 3. `SPT` M/M/1 60000 Time Unit"
   ]
  },
  {
   "cell_type": "code",
   "execution_count": 15,
   "id": "e8059867-862e-482d-ab2d-efef79e54f0f",
   "metadata": {},
   "outputs": [],
   "source": [
    "# Stochastic arrival time generator \n",
    "interarrival_obj = RandomTimeGenerator(initial_sequence=initial_sequence_arrival,\n",
    "                                        mean=mean_arrival, modulus=modulus, multiplier=multiplier)\n",
    "# Stochastic service time generator \n",
    "service_obj = RandomTimeGenerator(initial_sequence=initial_sequence_service,\n",
    "                                        mean=mean_service, modulus=modulus, multiplier=multiplier)"
   ]
  },
  {
   "cell_type": "code",
   "execution_count": 16,
   "id": "c71a5779-1aab-4ac9-bbe2-0f42092ff739",
   "metadata": {},
   "outputs": [
    {
     "name": "stdout",
     "output_type": "stream",
     "text": [
      "Info:   M/M/1 | SPT | Elapsed Time:60000 Minutes\n",
      "----------------------------\n",
      "Average Delay: 7.860916328110355\n",
      "Expected Number of Entities in the Queue: 1.556592448237972\n",
      "Percentage of Entities Waiting more than 4.5 Minutes in the System: 65.33961787728305\n",
      "System Utilization: 0.8044462704352797\n",
      "----------------------------\n",
      "Running Time : 0.28380441665649414\n"
     ]
    }
   ],
   "source": [
    "# Initializing SPT M/M/1 with 1000 entities.\n",
    "queue_spt = SingleServerQueuing_SPT(\n",
    "    stopping_criteria='time',num_delayed_required =np.inf,\n",
    "    stopping_time=60000, service_time_type='stochastic', mean_service_time=4,\n",
    "    interarrival_obj=interarrival_obj, service_obj=service_obj)\n",
    "# Running the simulation for FCFS M/M/1 with 1000 entities.\n",
    "run_simulation(queue=queue_spt, sys_type='SPT')"
   ]
  },
  {
   "cell_type": "markdown",
   "id": "1dc35aed-2aa4-42f8-a1b9-907e5cf24293",
   "metadata": {},
   "source": [
    "## 4. `SPT` M/D/1 60000 Time Unit"
   ]
  },
  {
   "cell_type": "code",
   "execution_count": 17,
   "id": "9455ebf7-31af-423a-8e79-49a71d6c6fe9",
   "metadata": {},
   "outputs": [],
   "source": [
    "# Stochastic arrival time generator \n",
    "interarrival_obj = RandomTimeGenerator(initial_sequence=initial_sequence_arrival,\n",
    "                                        mean=mean_arrival, modulus=modulus, multiplier=multiplier)\n",
    "# Stochastic service time generator \n",
    "service_obj = RandomTimeGenerator(initial_sequence=initial_sequence_service,\n",
    "                                        mean=mean_service, modulus=modulus, multiplier=multiplier)"
   ]
  },
  {
   "cell_type": "code",
   "execution_count": 18,
   "id": "c9fbdbc5-d8c4-4a83-b284-29522f260539",
   "metadata": {},
   "outputs": [
    {
     "name": "stdout",
     "output_type": "stream",
     "text": [
      "Info:   M/D/1 | SPT | Elapsed Time:60000 Minutes\n",
      "----------------------------\n",
      "Average Delay: 7.276150675924295\n",
      "Expected Number of Entities in the Queue: 1.440694777200417\n",
      "Percentage of Entities Waiting more than 4.5 Minutes in the System: 76.18686868686869\n",
      "System Utilization: 0.7920304376605548\n",
      "----------------------------\n",
      "Running Time : 0.24252700805664062\n"
     ]
    }
   ],
   "source": [
    "# Initializing SPT M/M/1 with 1000 entities.\n",
    "queue_spt = SingleServerQueuing_SPT(\n",
    "    stopping_criteria='time',num_delayed_required =np.inf,\n",
    "    stopping_time=60000, service_time_type='determinstic', mean_service_time=4,\n",
    "    interarrival_obj=interarrival_obj, service_obj=service_obj)\n",
    "# Running the simulation for FCFS M/M/1 with 1000 entities.\n",
    "run_simulation(queue=queue_spt, sys_type='SPT')"
   ]
  },
  {
   "cell_type": "code",
   "execution_count": null,
   "id": "1ab629c1-780a-4445-b26a-430746a056c8",
   "metadata": {},
   "outputs": [],
   "source": []
  }
 ],
 "metadata": {
  "kernelspec": {
   "display_name": "Python 3 (ipykernel)",
   "language": "python",
   "name": "python3"
  },
  "language_info": {
   "codemirror_mode": {
    "name": "ipython",
    "version": 3
   },
   "file_extension": ".py",
   "mimetype": "text/x-python",
   "name": "python",
   "nbconvert_exporter": "python",
   "pygments_lexer": "ipython3",
   "version": "3.7.11"
  }
 },
 "nbformat": 4,
 "nbformat_minor": 5
}
