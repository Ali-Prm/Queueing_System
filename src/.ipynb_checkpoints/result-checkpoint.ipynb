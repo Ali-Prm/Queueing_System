{
 "cells": [
  {
   "cell_type": "code",
   "execution_count": 1,
   "metadata": {},
   "outputs": [],
   "source": [
    "import numpy as np \n",
    "import time \n",
    "import heapq\n",
    "\n",
    "from fcfs import SingleServerQueuing_FCFS\n",
    "from spt import SingleServerQueuing_SPT\n",
    "from time_generator import RandomTimeGenerator\n",
    "from time_generator import time_generator_helper\n",
    "from run_simulation import run_simulation"
   ]
  },
  {
   "cell_type": "code",
   "execution_count": 2,
   "metadata": {},
   "outputs": [],
   "source": [
    "# Arrival time and service time are generated from exponential random varites.  \n",
    "# Arrival and service mean time.\n",
    "mean_arrival = 5 \n",
    "mean_service = 4 \n",
    "# Intial value for LINEAR CONGRUENTIAL GENERATORS random-number generator.\n",
    "initial_sequence_arrival = 1697712905  #(seed)\n",
    "initial_sequence_service = 247165065   #(seed)\n",
    "multiplier = 16807\n",
    "modulus = 2147483648"
   ]
  },
  {
   "cell_type": "code",
   "execution_count": 13,
   "metadata": {},
   "outputs": [],
   "source": [
    "# Stochastic arrival time generator \n",
    "interarrival_obj = RandomTimeGenerator(initial_sequence=initial_sequence_arrival,\n",
    "                                        mean=mean_arrival, modulus=modulus, multiplier=multiplier)\n",
    "# Stochastic service time generator \n",
    "service_obj = RandomTimeGenerator(initial_sequence=initial_sequence_service,\n",
    "                                        mean=mean_service, modulus=modulus, multiplier=multiplier)"
   ]
  },
  {
   "cell_type": "markdown",
   "metadata": {},
   "source": [
    "#"
   ]
  },
  {
   "cell_type": "code",
   "execution_count": 7,
   "metadata": {},
   "outputs": [
    {
     "ename": "NameError",
     "evalue": "name 'interarrival_obj' is not defined",
     "output_type": "error",
     "traceback": [
      "\u001b[0;31m---------------------------------------------------------------------------\u001b[0m",
      "\u001b[0;31mNameError\u001b[0m                                 Traceback (most recent call last)",
      "\u001b[0;32m/tmp/ipykernel_2206/3598034746.py\u001b[0m in \u001b[0;36m<module>\u001b[0;34m\u001b[0m\n\u001b[1;32m      3\u001b[0m                                  stopping_time=np.inf, service_time_type='stochastic', mean_service_time=4)\n\u001b[1;32m      4\u001b[0m \u001b[0;31m# Running the simulation for FCFS M/M/1 with 1000 entities.\u001b[0m\u001b[0;34m\u001b[0m\u001b[0;34m\u001b[0m\u001b[0;34m\u001b[0m\u001b[0m\n\u001b[0;32m----> 5\u001b[0;31m \u001b[0mrun_simulation\u001b[0m\u001b[0;34m(\u001b[0m\u001b[0mqueue\u001b[0m\u001b[0;34m=\u001b[0m\u001b[0mqueue_fcfs\u001b[0m\u001b[0;34m,\u001b[0m \u001b[0msys_type\u001b[0m\u001b[0;34m=\u001b[0m\u001b[0;34m'FCFS'\u001b[0m\u001b[0;34m)\u001b[0m\u001b[0;34m\u001b[0m\u001b[0;34m\u001b[0m\u001b[0m\n\u001b[0m",
      "\u001b[0;32m/mnt/e/Python/modularization/src/run_simulation.py\u001b[0m in \u001b[0;36mrun_simulation\u001b[0;34m(queue, sys_type)\u001b[0m\n\u001b[1;32m      9\u001b[0m     \u001b[0mstart\u001b[0m \u001b[0;34m=\u001b[0m \u001b[0mtime\u001b[0m\u001b[0;34m.\u001b[0m\u001b[0mtime\u001b[0m\u001b[0;34m(\u001b[0m\u001b[0;34m)\u001b[0m\u001b[0;34m\u001b[0m\u001b[0;34m\u001b[0m\u001b[0m\n\u001b[1;32m     10\u001b[0m     \u001b[0;31m# Initialize the queue object\u001b[0m\u001b[0;34m\u001b[0m\u001b[0;34m\u001b[0m\u001b[0;34m\u001b[0m\u001b[0m\n\u001b[0;32m---> 11\u001b[0;31m     \u001b[0mqueue\u001b[0m\u001b[0;34m.\u001b[0m\u001b[0minitialize\u001b[0m\u001b[0;34m(\u001b[0m\u001b[0;34m)\u001b[0m\u001b[0;34m\u001b[0m\u001b[0;34m\u001b[0m\u001b[0m\n\u001b[0m\u001b[1;32m     12\u001b[0m     \u001b[0;31m# Run the simulation until the stopping crietria is met.\u001b[0m\u001b[0;34m\u001b[0m\u001b[0;34m\u001b[0m\u001b[0;34m\u001b[0m\u001b[0m\n\u001b[1;32m     13\u001b[0m     \u001b[0;32mwhile\u001b[0m \u001b[0mqueue\u001b[0m\u001b[0;34m.\u001b[0m\u001b[0msim_time\u001b[0m \u001b[0;34m<=\u001b[0m \u001b[0mqueue\u001b[0m\u001b[0;34m.\u001b[0m\u001b[0mstopping_time\u001b[0m \u001b[0;34m:\u001b[0m\u001b[0;34m\u001b[0m\u001b[0;34m\u001b[0m\u001b[0m\n",
      "\u001b[0;32m/mnt/e/Python/modularization/src/fcfs.py\u001b[0m in \u001b[0;36minitialize\u001b[0;34m(self)\u001b[0m\n\u001b[1;32m     74\u001b[0m \u001b[0;34m\u001b[0m\u001b[0m\n\u001b[1;32m     75\u001b[0m         \u001b[0;31m# Next Event Time\u001b[0m\u001b[0;34m\u001b[0m\u001b[0;34m\u001b[0m\u001b[0;34m\u001b[0m\u001b[0m\n\u001b[0;32m---> 76\u001b[0;31m         \u001b[0mself\u001b[0m\u001b[0;34m.\u001b[0m\u001b[0mtime_next_event\u001b[0m\u001b[0;34m[\u001b[0m\u001b[0;34m'arrival'\u001b[0m\u001b[0;34m]\u001b[0m \u001b[0;34m=\u001b[0m \u001b[0mself\u001b[0m\u001b[0;34m.\u001b[0m\u001b[0msim_time\u001b[0m \u001b[0;34m+\u001b[0m \u001b[0mtime_generator_helper\u001b[0m\u001b[0;34m(\u001b[0m\u001b[0minterarrival_obj\u001b[0m\u001b[0;34m)\u001b[0m\u001b[0;34m\u001b[0m\u001b[0;34m\u001b[0m\u001b[0m\n\u001b[0m\u001b[1;32m     77\u001b[0m         \u001b[0mself\u001b[0m\u001b[0;34m.\u001b[0m\u001b[0mtime_next_event\u001b[0m\u001b[0;34m[\u001b[0m\u001b[0;34m'departure'\u001b[0m\u001b[0;34m]\u001b[0m \u001b[0;34m=\u001b[0m \u001b[0mnp\u001b[0m\u001b[0;34m.\u001b[0m\u001b[0minf\u001b[0m\u001b[0;34m\u001b[0m\u001b[0;34m\u001b[0m\u001b[0m\n\u001b[1;32m     78\u001b[0m         \u001b[0mself\u001b[0m\u001b[0;34m.\u001b[0m\u001b[0mtime_next_event\u001b[0m\u001b[0;34m[\u001b[0m\u001b[0;34m'termination'\u001b[0m\u001b[0;34m]\u001b[0m \u001b[0;34m=\u001b[0m  \u001b[0mself\u001b[0m\u001b[0;34m.\u001b[0m\u001b[0mstopping_time\u001b[0m\u001b[0;34m\u001b[0m\u001b[0;34m\u001b[0m\u001b[0m\n",
      "\u001b[0;31mNameError\u001b[0m: name 'interarrival_obj' is not defined"
     ]
    }
   ],
   "source": [
    "\n",
    "# Initializing FCFS M/M/1 with 1000 entities.\n",
    "queue_fcfs = SingleServerQueuing_FCFS(\n",
    "    stopping_criteria='custs_num',num_delayed_required =10000,\n",
    "    stopping_time=np.inf, service_time_type='stochastic', mean_service_time=4,\n",
    "    interarrival_obj=interarrival_obj, service_obj=service_obj)\n",
    "# Running the simulation for FCFS M/M/1 with 1000 entities.\n",
    "run_simulation(queue=queue_fcfs, sys_type='FCFS')"
   ]
  },
  {
   "cell_type": "code",
   "execution_count": 15,
   "metadata": {},
   "outputs": [
    {
     "data": {
      "text/plain": [
       "1.1750738257276685"
      ]
     },
     "execution_count": 15,
     "metadata": {},
     "output_type": "execute_result"
    }
   ],
   "source": [
    "time_generator_helper(interarrival_obj)"
   ]
  },
  {
   "cell_type": "code",
   "execution_count": null,
   "metadata": {},
   "outputs": [],
   "source": []
  },
  {
   "cell_type": "code",
   "execution_count": null,
   "metadata": {},
   "outputs": [],
   "source": []
  }
 ],
 "metadata": {
  "kernelspec": {
   "display_name": "Python 3 (ipykernel)",
   "language": "python",
   "name": "python3"
  },
  "language_info": {
   "codemirror_mode": {
    "name": "ipython",
    "version": 3
   },
   "file_extension": ".py",
   "mimetype": "text/x-python",
   "name": "python",
   "nbconvert_exporter": "python",
   "pygments_lexer": "ipython3",
   "version": "3.7.11"
  }
 },
 "nbformat": 4,
 "nbformat_minor": 4
}
